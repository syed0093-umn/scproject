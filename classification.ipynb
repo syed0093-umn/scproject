{
 "cells": [
  {
   "cell_type": "code",
   "execution_count": 1,
   "metadata": {},
   "outputs": [],
   "source": [
    "import pandas as pd\n",
    "import numpy as np\n",
    "import torch\n",
    "from transformers import RobertaTokenizer, RobertaForSequenceClassification, Trainer, TrainingArguments\n",
    "from sklearn.model_selection import train_test_split\n",
    "from datasets import Dataset\n",
    "import evaluate"
   ]
  },
  {
   "cell_type": "code",
   "execution_count": null,
   "metadata": {},
   "outputs": [
    {
     "name": "stdout",
     "output_type": "stream",
     "text": [
      "(34823, 7) rows × columns\n"
     ]
    },
    {
     "data": {
      "text/html": [
       "<div>\n",
       "<style scoped>\n",
       "    .dataframe tbody tr th:only-of-type {\n",
       "        vertical-align: middle;\n",
       "    }\n",
       "\n",
       "    .dataframe tbody tr th {\n",
       "        vertical-align: top;\n",
       "    }\n",
       "\n",
       "    .dataframe thead th {\n",
       "        text-align: right;\n",
       "    }\n",
       "</style>\n",
       "<table border=\"1\" class=\"dataframe\">\n",
       "  <thead>\n",
       "    <tr style=\"text-align: right;\">\n",
       "      <th></th>\n",
       "      <th>match_type</th>\n",
       "      <th>news_id</th>\n",
       "      <th>news_title</th>\n",
       "      <th>news_url</th>\n",
       "      <th>click_id</th>\n",
       "      <th>click_title</th>\n",
       "      <th>click_url</th>\n",
       "    </tr>\n",
       "  </thead>\n",
       "  <tbody>\n",
       "    <tr>\n",
       "      <th>0</th>\n",
       "      <td>exact</td>\n",
       "      <td>1gffymz</td>\n",
       "      <td>Inside Nigeria’s food delivery landscape: Chal...</td>\n",
       "      <td></td>\n",
       "      <td>1jyvxdg</td>\n",
       "      <td>The abandoned London Underground station where...</td>\n",
       "      <td></td>\n",
       "    </tr>\n",
       "    <tr>\n",
       "      <th>1</th>\n",
       "      <td>exact</td>\n",
       "      <td>1gfllr9</td>\n",
       "      <td>U.S. Economy Grew at 2.8% Rate in Third Quarter</td>\n",
       "      <td></td>\n",
       "      <td>1jyvxdg</td>\n",
       "      <td>The abandoned London Underground station where...</td>\n",
       "      <td></td>\n",
       "    </tr>\n",
       "    <tr>\n",
       "      <th>2</th>\n",
       "      <td>exact</td>\n",
       "      <td>1gfm8zr</td>\n",
       "      <td>Biden's 'garbage' remarks give Trump and GOP n...</td>\n",
       "      <td></td>\n",
       "      <td>1jyvxdg</td>\n",
       "      <td>The abandoned London Underground station where...</td>\n",
       "      <td></td>\n",
       "    </tr>\n",
       "    <tr>\n",
       "      <th>3</th>\n",
       "      <td>exact</td>\n",
       "      <td>1gfmjlp</td>\n",
       "      <td>Researchers tortured robots to test the limits...</td>\n",
       "      <td></td>\n",
       "      <td>1jyvxdg</td>\n",
       "      <td>The abandoned London Underground station where...</td>\n",
       "      <td></td>\n",
       "    </tr>\n",
       "    <tr>\n",
       "      <th>4</th>\n",
       "      <td>exact</td>\n",
       "      <td>1gfrqe4</td>\n",
       "      <td>Novedades Android 15 #android #google #rafaelm...</td>\n",
       "      <td>https://youtube.com/watch</td>\n",
       "      <td>1k9so8f</td>\n",
       "      <td>I used to think that love was enough but  | ju...</td>\n",
       "      <td>https://youtube.com/watch</td>\n",
       "    </tr>\n",
       "  </tbody>\n",
       "</table>\n",
       "</div>"
      ],
      "text/plain": [
       "  match_type  news_id                                         news_title  \\\n",
       "0      exact  1gffymz  Inside Nigeria’s food delivery landscape: Chal...   \n",
       "1      exact  1gfllr9    U.S. Economy Grew at 2.8% Rate in Third Quarter   \n",
       "2      exact  1gfm8zr  Biden's 'garbage' remarks give Trump and GOP n...   \n",
       "3      exact  1gfmjlp  Researchers tortured robots to test the limits...   \n",
       "4      exact  1gfrqe4  Novedades Android 15 #android #google #rafaelm...   \n",
       "\n",
       "                    news_url click_id  \\\n",
       "0                             1jyvxdg   \n",
       "1                             1jyvxdg   \n",
       "2                             1jyvxdg   \n",
       "3                             1jyvxdg   \n",
       "4  https://youtube.com/watch  1k9so8f   \n",
       "\n",
       "                                         click_title  \\\n",
       "0  The abandoned London Underground station where...   \n",
       "1  The abandoned London Underground station where...   \n",
       "2  The abandoned London Underground station where...   \n",
       "3  The abandoned London Underground station where...   \n",
       "4  I used to think that love was enough but  | ju...   \n",
       "\n",
       "                   click_url  \n",
       "0                             \n",
       "1                             \n",
       "2                             \n",
       "3                             \n",
       "4  https://youtube.com/watch  "
      ]
     },
     "metadata": {},
     "output_type": "display_data"
    }
   ],
   "source": [
    "import json\n",
    "import pandas as pd\n",
    "\n",
    "with open('exact_matches.json','r') as f:\n",
    "    exact = json.load(f)\n",
    "with open('domain_matches.json','r') as f:\n",
    "    domain = json.load(f)\n",
    "\n",
    "rows = []\n",
    "for news, cb in exact:\n",
    "    rows.append({\n",
    "        'match_type':  'exact',\n",
    "        'news_id':     news.get('id'),\n",
    "        'news_title':  news.get('title'),\n",
    "        'news_url':    news.get('clean_url'),\n",
    "        'click_id':    cb.get('id'),\n",
    "        'click_title': cb.get('title'),\n",
    "        'click_url':   cb.get('clean_url'),\n",
    "    })\n",
    "\n",
    "for news, cb in domain:\n",
    "    rows.append({\n",
    "        'match_type':  'domain',\n",
    "        'news_id':     news.get('id'),\n",
    "        'news_title':  news.get('title'),\n",
    "        'news_url':    news.get('clean_url'),\n",
    "        'click_id':    cb.get('id'),\n",
    "        'click_title': cb.get('title'),\n",
    "        'click_url':   cb.get('clean_url'),\n",
    "    })\n",
    "\n",
    "df_matches = pd.DataFrame(rows)\n",
    "\n",
    "cols = [\n",
    "    'match_type','similarity',\n",
    "    'news_id','news_title','news_url',\n",
    "    'click_id','click_title','click_url'\n",
    "]\n",
    "df_matches = df_matches.reindex(columns=[c for c in cols if c in df_matches.columns])\n",
    "\n",
    "print(df_matches.shape, \"rows × columns\")\n",
    "display(df_matches.head())\n",
    "\n",
    "df_matches.to_csv('matched_pairs.csv', index=False)\n"
   ]
  },
  {
   "cell_type": "code",
   "execution_count": null,
   "metadata": {},
   "outputs": [
    {
     "name": "stdout",
     "output_type": "stream",
     "text": [
      "publisher_type\n",
      "other             307\n",
      "digital-native     34\n",
      "traditional        10\n",
      "Name: count, dtype: int64\n",
      "publisher_type\n",
      "digital-native    [finance.yahoo.com, parade.com, screenrant.com...\n",
      "other             [, archive.fo, archive.is, archive.ph, archive...\n",
      "traditional       [edition.cnn.com, www.bbc.com, www.cbsnews.com...\n",
      "Name: url, dtype: object\n"
     ]
    }
   ],
   "source": [
    "import json\n",
    "import re\n",
    "from urllib.parse import urlparse\n",
    "import pandas as pd\n",
    "\n",
    "records = []\n",
    "with open('r_savedyouaclick_posts.jsonl') as f:\n",
    "    for line in f:\n",
    "        records.append(json.loads(line))\n",
    "df = pd.DataFrame(records)\n",
    "\n",
    "def extract_original_url(url):\n",
    "    p = urlparse(url)\n",
    "    if 'web.archive.org' in p.netloc:\n",
    "        m = re.match(r'/web/\\d+/(https?://.+)', p.path)\n",
    "        if m:\n",
    "            return m.group(1)\n",
    "    return url\n",
    "\n",
    "traditional_regex = re.compile(\n",
    "    r\"(?:bbc\\.com|reuters\\.com|cnn\\.com|\"\n",
    "    r\"nbcnews\\.com|apnews\\.com|theguardian\\.com|\"\n",
    "    r\"nytimes\\.com|washingtonpost\\.com|wsj\\.com|\"\n",
    "    r\"cbsnews\\.com|abcnews\\.go\\.com|npr\\.org)\"\n",
    ")\n",
    "digital_regex = re.compile(\n",
    "    r\"(?:buzzfeed\\.com|huffpost\\.com|dailymail\\.co\\.uk|\"\n",
    "    r\"allrecipes\\.com|gobankingrates\\.com|parade\\.com|\"\n",
    "    r\"screenrant\\.com|cnbc\\.com|forbes\\.com|msn\\.com|yahoo\\.com)\"\n",
    ")\n",
    "\n",
    "def get_publisher_type(raw_url):\n",
    "    orig = extract_original_url(raw_url)\n",
    "    dom = urlparse(orig).netloc.lower()\n",
    "    if traditional_regex.search(dom):\n",
    "        return 'traditional'\n",
    "    if digital_regex.search(dom):\n",
    "        return 'digital-native'\n",
    "    return 'other'\n",
    "\n",
    "df['publisher_type'] = df['url'].apply(get_publisher_type)\n",
    "\n",
    "print(df['publisher_type'].value_counts())\n",
    "print(df.groupby('publisher_type')['url'].agg(lambda urls: sorted({urlparse(extract_original_url(u)).netloc.lower() for u in urls})))"
   ]
  },
  {
   "cell_type": "code",
   "execution_count": 19,
   "metadata": {},
   "outputs": [
    {
     "data": {
      "text/plain": [
       "<Axes: xlabel='publisher_type'>"
      ]
     },
     "execution_count": 19,
     "metadata": {},
     "output_type": "execute_result"
    },
    {
     "data": {
      "image/png": "[encoded data removed]",
      "text/plain": [
       "<Figure size 640x480 with 1 Axes>"
      ]
     },
     "metadata": {},
     "output_type": "display_data"
    }
   ],
   "source": [
    "df['publisher_type'].value_counts().plot(kind='bar')\n"
   ]
  },
  {
   "cell_type": "code",
   "execution_count": null,
   "metadata": {},
   "outputs": [
    {
     "data": {
      "image/png": "[encoded data removed]",
      "text/plain": [
       "<Figure size 640x480 with 1 Axes>"
      ]
     },
     "metadata": {},
     "output_type": "display_data"
    }
   ],
   "source": [
    "import matplotlib.pyplot as plt\n",
    "\n",
    "df['publisher_type'].value_counts().plot(kind='bar', rot=0)\n",
    "plt.title(\"Publisher Type Distribution\")\n",
    "plt.xlabel(\"Publisher Type\")\n",
    "plt.ylabel(\"Count\")\n",
    "plt.tight_layout()\n",
    "plt.show()"
   ]
  },
  {
   "cell_type": "code",
   "execution_count": null,
   "metadata": {},
   "outputs": [
    {
     "data": {
      "image/png": "[encoded data removed]",
      "text/plain": [
       "<Figure size 640x480 with 1 Axes>"
      ]
     },
     "metadata": {},
     "output_type": "display_data"
    }
   ],
   "source": [
    "import matplotlib.pyplot as plt\n",
    "\n",
    "counts = df['publisher_type'].value_counts(normalize=True)*100\n",
    "counts.plot(kind='bar', rot=0)\n",
    "plt.title(\"Share of Spoiled Clickbait by Publisher Type\")\n",
    "plt.ylabel(\"Percentage of Matched Clickbait Posts\")\n",
    "plt.xlabel(\"Publisher Type\")\n",
    "for i,v in enumerate(counts):\n",
    "    plt.text(i, v+1, f\"{v:.1f}%\", ha='center')\n",
    "plt.tight_layout()\n",
    "plt.show()"
   ]
  },
  {
   "cell_type": "code",
   "execution_count": null,
   "metadata": {},
   "outputs": [
    {
     "name": "stdout",
     "output_type": "stream",
     "text": [
      "spoiler_type\n",
      "phrase     28577\n",
      "passage     5643\n",
      "multi        603\n",
      "Name: count, dtype: int64\n"
     ]
    }
   ],
   "source": [
    "import re\n",
    "def spoiler_type(txt):\n",
    "    if re.search(r'\\b1\\.', txt):      return 'multi'\n",
    "    if len(txt.split('.')) > 2:       return 'passage'\n",
    "    return 'phrase'\n",
    "\n",
    "df['spoiler_type'] = df['spoiler_text'].apply(spoiler_type)\n",
    "print(df['spoiler_type'].value_counts())"
   ]
  },
  {
   "cell_type": "code",
   "execution_count": 11,
   "metadata": {},
   "outputs": [
    {
     "data": {
      "text/html": [
       "<div>\n",
       "<style scoped>\n",
       "    .dataframe tbody tr th:only-of-type {\n",
       "        vertical-align: middle;\n",
       "    }\n",
       "\n",
       "    .dataframe tbody tr th {\n",
       "        vertical-align: top;\n",
       "    }\n",
       "\n",
       "    .dataframe thead th {\n",
       "        text-align: right;\n",
       "    }\n",
       "</style>\n",
       "<table border=\"1\" class=\"dataframe\">\n",
       "  <thead>\n",
       "    <tr style=\"text-align: right;\">\n",
       "      <th></th>\n",
       "      <th>score</th>\n",
       "      <th>num_comments</th>\n",
       "    </tr>\n",
       "    <tr>\n",
       "      <th>spoiler_type</th>\n",
       "      <th></th>\n",
       "      <th></th>\n",
       "    </tr>\n",
       "  </thead>\n",
       "  <tbody>\n",
       "    <tr>\n",
       "      <th>multi</th>\n",
       "      <td>93.000000</td>\n",
       "      <td>6.000000</td>\n",
       "    </tr>\n",
       "    <tr>\n",
       "      <th>passage</th>\n",
       "      <td>484.660110</td>\n",
       "      <td>38.119972</td>\n",
       "    </tr>\n",
       "    <tr>\n",
       "      <th>phrase</th>\n",
       "      <td>243.060153</td>\n",
       "      <td>12.588025</td>\n",
       "    </tr>\n",
       "  </tbody>\n",
       "</table>\n",
       "</div>"
      ],
      "text/plain": [
       "                   score  num_comments\n",
       "spoiler_type                          \n",
       "multi          93.000000      6.000000\n",
       "passage       484.660110     38.119972\n",
       "phrase        243.060153     12.588025"
      ]
     },
     "execution_count": 11,
     "metadata": {},
     "output_type": "execute_result"
    }
   ],
   "source": [
    "engagement = df.groupby('spoiler_type')[['score','num_comments']].mean()\n",
    "engagement"
   ]
  },
  {
   "cell_type": "code",
   "execution_count": 14,
   "metadata": {},
   "outputs": [
    {
     "name": "stdout",
     "output_type": "stream",
     "text": [
      "News titles predicted as clickbait by Naive Bayes:\n",
      "– A letter written onboard the Titanic before it sank sells for almost $400,000 at auction\n",
      "– Jack in the Box to close up to 200 restaurants, explore sale of Del Taco brand\n",
      "– Virginia Giuffre, one of Jeffrey Epstein's most prominent abuse survivors, dies by suicide\n",
      "– California’s economy surpasses Japan’s as it becomes fourth largest in world\n",
      "– Feds accidentally publish secret plan to kill NYC congestion pricing\n",
      "– German beer sales down at home and abroad\n",
      "– Germany seeks to deport an American and 3 EU citizens after pro-Palestinian protest\n",
      "– Video shows doctor with measles treating kids. RFK Jr later praised him as an ‘extraordinary’ healer\n",
      "– Key regulators approve merger of Capital One and Discover, paving the way for a new biggest credit card company\n",
      "– Astronomers Detect a Possible Signature of Life on a Distant Planet\n",
      "– The State Department closes the office that flags disinformation from Russia, China and Iran\n",
      "– Tuvalu unveils first cash machines in 'momentous' ceremony\n",
      "– Google sued for £5bn in UK over allegations of shutting out rivals\n",
      "– Michigan man upset that girlfriend went on cruise sentenced for ship bomb hoax\n"
     ]
    }
   ],
   "source": [
    "from sklearn.model_selection import train_test_split\n",
    "from sklearn.feature_extraction.text import TfidfVectorizer\n",
    "from sklearn.naive_bayes import MultinomialNB\n",
    "from sklearn.pipeline import Pipeline\n",
    "\n",
    "# 1. Prepare your labeled dataset (as before)\n",
    "click = pd.read_json('clickbait_posts.json')\n",
    "news  = pd.read_json('news_posts.json')\n",
    "click['label'] = 1\n",
    "news['label']  = 0\n",
    "df = pd.concat([ click[['title','label']], news[['title','label']] ], ignore_index=True)\n",
    "\n",
    "# 2. Split into train/test\n",
    "X_train, X_test, y_train, y_test = train_test_split(\n",
    "    df['title'], df['label'], stratify=df['label'], test_size=0.2, random_state=42\n",
    ")\n",
    "\n",
    "# 3. Build a TF-IDF + MultinomialNB pipeline\n",
    "pipe_nb = Pipeline([\n",
    "    ('tfidf', TfidfVectorizer(ngram_range=(1,2), max_features=5000)),\n",
    "    ('clf',   MultinomialNB())\n",
    "])\n",
    "\n",
    "# 4. Train\n",
    "pipe_nb.fit(X_train, y_train)\n",
    "\n",
    "# 5. Predict on the r/news posts\n",
    "news['pred_nb'] = pipe_nb.predict(news['title'])\n",
    "\n",
    "# 6. List titles predicted as clickbait\n",
    "clickbait_news_titles = news.loc[news['pred_nb'] == 1, 'title']\n",
    "print(\"News titles predicted as clickbait by Naive Bayes:\")\n",
    "for t in clickbait_news_titles.tolist():\n",
    "    print(\"–\", t)\n"
   ]
  }
 ],
 "metadata": {
  "kernelspec": {
   "display_name": "Python 3",
   "language": "python",
   "name": "python3"
  },
  "language_info": {
   "codemirror_mode": {
    "name": "ipython",
    "version": 3
   },
   "file_extension": ".py",
   "mimetype": "text/x-python",
   "name": "python",
   "nbconvert_exporter": "python",
   "pygments_lexer": "ipython3",
   "version": "3.10.12"
  }
 },
 "nbformat": 4,
 "nbformat_minor": 2
}
